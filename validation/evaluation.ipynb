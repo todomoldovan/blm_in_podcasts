{
 "cells": [
  {
   "cell_type": "code",
   "execution_count": 1,
   "metadata": {},
   "outputs": [],
   "source": [
    "import os\n",
    "import glob\n",
    "import random\n",
    "import pandas as pd\n",
    "import krippendorff\n",
    "import numpy as np\n",
    "from sklearn.metrics import accuracy_score, confusion_matrix, f1_score, classification_report"
   ]
  },
  {
   "cell_type": "code",
   "execution_count": 13,
   "metadata": {},
   "outputs": [],
   "source": [
    "directory = \"../data/episodes\""
   ]
  },
  {
   "cell_type": "markdown",
   "metadata": {},
   "source": [
    "### Is this discussing race?"
   ]
  },
  {
   "cell_type": "code",
   "execution_count": 22,
   "metadata": {},
   "outputs": [],
   "source": [
    "race_sample = pd.read_csv('../data/annotation/race_sample.csv')\n",
    "race_sample_1 = pd.read_csv('../data/annotation/race_sample_1.csv')\n",
    "race_sample_2 = pd.read_csv('../data/annotation/race_sample_2.csv')\n",
    "race_sample_3 = pd.read_csv('../data/annotation/race_sample_3.csv')"
   ]
  },
  {
   "cell_type": "code",
   "execution_count": 23,
   "metadata": {},
   "outputs": [
    {
     "data": {
      "text/html": [
       "<div>\n",
       "<style scoped>\n",
       "    .dataframe tbody tr th:only-of-type {\n",
       "        vertical-align: middle;\n",
       "    }\n",
       "\n",
       "    .dataframe tbody tr th {\n",
       "        vertical-align: top;\n",
       "    }\n",
       "\n",
       "    .dataframe thead th {\n",
       "        text-align: right;\n",
       "    }\n",
       "</style>\n",
       "<table border=\"1\" class=\"dataframe\">\n",
       "  <thead>\n",
       "    <tr style=\"text-align: right;\">\n",
       "      <th></th>\n",
       "      <th>sentence</th>\n",
       "      <th>race</th>\n",
       "      <th>annotation_1</th>\n",
       "      <th>annotation_2</th>\n",
       "      <th>annotation_3</th>\n",
       "      <th>majority</th>\n",
       "    </tr>\n",
       "  </thead>\n",
       "  <tbody>\n",
       "    <tr>\n",
       "      <th>0</th>\n",
       "      <td>America is the only country.</td>\n",
       "      <td>0</td>\n",
       "      <td>0</td>\n",
       "      <td>0</td>\n",
       "      <td>0</td>\n",
       "      <td>0</td>\n",
       "    </tr>\n",
       "    <tr>\n",
       "      <th>1</th>\n",
       "      <td>Now remember, when you're done today, please sign up for part five and also remember to check out all of our audio guides on the Through the Word app and website.</td>\n",
       "      <td>0</td>\n",
       "      <td>0</td>\n",
       "      <td>0</td>\n",
       "      <td>0</td>\n",
       "      <td>0</td>\n",
       "    </tr>\n",
       "    <tr>\n",
       "      <th>2</th>\n",
       "      <td>And I heard a loud voice saying in heaven, now is come salvation and strength, and the kingdom of our God and the power of his Christ.</td>\n",
       "      <td>0</td>\n",
       "      <td>0</td>\n",
       "      <td>0</td>\n",
       "      <td>0</td>\n",
       "      <td>0</td>\n",
       "    </tr>\n",
       "    <tr>\n",
       "      <th>3</th>\n",
       "      <td>It's actually the white supremacist that we're running it to get all these young people to fall, but basically fall in direction and to go loot and mass. - Yeah, you know, there was a cop shot here Saturday night like if I circus circus and apparently the guy that shot him didn't have anything to do with the situation, there was a couple of the cop was, I think, struggling with somebody and the guy walked by and decided to get an opportunity and just shot the cop.</td>\n",
       "      <td>1</td>\n",
       "      <td>1</td>\n",
       "      <td>1</td>\n",
       "      <td>1</td>\n",
       "      <td>1</td>\n",
       "    </tr>\n",
       "    <tr>\n",
       "      <th>4</th>\n",
       "      <td>And that's what I feel like collectively at a high level, that's what that's a big thing that the black community is missing.</td>\n",
       "      <td>1</td>\n",
       "      <td>1</td>\n",
       "      <td>0</td>\n",
       "      <td>1</td>\n",
       "      <td>1</td>\n",
       "    </tr>\n",
       "  </tbody>\n",
       "</table>\n",
       "</div>"
      ],
      "text/plain": [
       "                                                                                                                                                                                                                                                                                                                                                                                                                                                                               sentence  \\\n",
       "0                                                                                                                                                                                                                                                                                                                                                                                                                                                          America is the only country.   \n",
       "1                                                                                                                                                                                                                                                                                                                    Now remember, when you're done today, please sign up for part five and also remember to check out all of our audio guides on the Through the Word app and website.   \n",
       "2                                                                                                                                                                                                                                                                                                                                                And I heard a loud voice saying in heaven, now is come salvation and strength, and the kingdom of our God and the power of his Christ.   \n",
       "3  It's actually the white supremacist that we're running it to get all these young people to fall, but basically fall in direction and to go loot and mass. - Yeah, you know, there was a cop shot here Saturday night like if I circus circus and apparently the guy that shot him didn't have anything to do with the situation, there was a couple of the cop was, I think, struggling with somebody and the guy walked by and decided to get an opportunity and just shot the cop.   \n",
       "4                                                                                                                                                                                                                                                                                                                                                         And that's what I feel like collectively at a high level, that's what that's a big thing that the black community is missing.   \n",
       "\n",
       "   race  annotation_1  annotation_2  annotation_3  majority  \n",
       "0     0             0             0             0         0  \n",
       "1     0             0             0             0         0  \n",
       "2     0             0             0             0         0  \n",
       "3     1             1             1             1         1  \n",
       "4     1             1             0             1         1  "
      ]
     },
     "execution_count": 23,
     "metadata": {},
     "output_type": "execute_result"
    }
   ],
   "source": [
    "df_race = race_sample[['sentence', 'race']].copy()\n",
    "df_race['race'] = df_race['race'].astype(int)\n",
    "df_race['annotation_1'] = race_sample_1['annotation'].values\n",
    "df_race['annotation_2'] = race_sample_2['annotation'].values\n",
    "df_race['annotation_3'] = race_sample_3['annotation'].values\n",
    "df_race['majority'] = df_race[['annotation_1', 'annotation_2', 'annotation_3']].mode(axis=1)[0]\n",
    "df_race.head()"
   ]
  },
  {
   "cell_type": "code",
   "execution_count": 24,
   "metadata": {},
   "outputs": [
    {
     "name": "stdout",
     "output_type": "stream",
     "text": [
      "Krippendorff's alpha: 0.7737\n"
     ]
    }
   ],
   "source": [
    "df_race_krip = df_race[['annotation_1', 'annotation_2', 'annotation_3']].to_numpy()\n",
    "df_race_krip = np.transpose(df_race_krip)\n",
    "alpha = krippendorff.alpha(reliability_data=df_race_krip, level_of_measurement='nominal')\n",
    "print(f\"Krippendorff's alpha: {alpha:.4f}\")"
   ]
  },
  {
   "cell_type": "code",
   "execution_count": 25,
   "metadata": {},
   "outputs": [
    {
     "name": "stdout",
     "output_type": "stream",
     "text": [
      "Accuracy: 0.8100\n",
      "F1 Score: 0.7654\n",
      "True Positives (TP): 62\n",
      "True Negatives (TN): 100\n",
      "False Positives (FP): 38\n",
      "False Negatives (FN): 0\n"
     ]
    }
   ],
   "source": [
    "accuracy = accuracy_score(df_race['majority'], df_race['race'])\n",
    "f1 = f1_score(df_race['majority'], df_race['race'])\n",
    "tn, fp, fn, tp = confusion_matrix(df_race['majority'], df_race['race']).ravel()\n",
    "print(f'Accuracy: {accuracy:.4f}')\n",
    "print(f'F1 Score: {f1:.4f}')\n",
    "print(f'True Positives (TP): {tp}')\n",
    "print(f'True Negatives (TN): {tn}')\n",
    "print(f'False Positives (FP): {fp}')\n",
    "print(f'False Negatives (FN): {fn}')"
   ]
  },
  {
   "cell_type": "markdown",
   "metadata": {},
   "source": [
    "### What level of collective action is it?"
   ]
  },
  {
   "cell_type": "code",
   "execution_count": 26,
   "metadata": {},
   "outputs": [],
   "source": [
    "multi_sample = pd.read_csv('../data/annotation/multi_sample.csv')\n",
    "multi_sample_1 = pd.read_csv('../data/annotation/multi_sample_1.csv')\n",
    "multi_sample_2 = pd.read_csv('../data/annotation/multi_sample_2.csv')\n",
    "multi_sample_3 = pd.read_csv('../data/annotation/multi_sample_3.csv')"
   ]
  },
  {
   "cell_type": "code",
   "execution_count": null,
   "metadata": {},
   "outputs": [
    {
     "data": {
      "text/html": [
       "<div>\n",
       "<style scoped>\n",
       "    .dataframe tbody tr th:only-of-type {\n",
       "        vertical-align: middle;\n",
       "    }\n",
       "\n",
       "    .dataframe tbody tr th {\n",
       "        vertical-align: top;\n",
       "    }\n",
       "\n",
       "    .dataframe thead th {\n",
       "        text-align: right;\n",
       "    }\n",
       "</style>\n",
       "<table border=\"1\" class=\"dataframe\">\n",
       "  <thead>\n",
       "    <tr style=\"text-align: right;\">\n",
       "      <th></th>\n",
       "      <th>sentence</th>\n",
       "      <th>collectiveActionLevel</th>\n",
       "      <th>annotation_1</th>\n",
       "      <th>annotation_2</th>\n",
       "      <th>annotation_3</th>\n",
       "      <th>majority</th>\n",
       "    </tr>\n",
       "  </thead>\n",
       "  <tbody>\n",
       "    <tr>\n",
       "      <th>0</th>\n",
       "      <td>I also wanted to take our anger, our frustration, our sadness.</td>\n",
       "      <td>Call-to-action</td>\n",
       "      <td>Execution</td>\n",
       "      <td>no_annotation</td>\n",
       "      <td>no_annotation</td>\n",
       "      <td>no_annotation</td>\n",
       "    </tr>\n",
       "    <tr>\n",
       "      <th>1</th>\n",
       "      <td>A ban on police choke holds, for example, and the talks are still going on for the bigger asks, namely slashing the Seattle police department's budget and redirecting funds to health and social services.</td>\n",
       "      <td>Intention</td>\n",
       "      <td>Intention</td>\n",
       "      <td>Problem-solution</td>\n",
       "      <td>no_annotation</td>\n",
       "      <td>no majority</td>\n",
       "    </tr>\n",
       "    <tr>\n",
       "      <th>2</th>\n",
       "      <td>I mean, it's so ingrained into, you know, just society and, you know, it's been represented historically, like, throughout, you know, throughout time, like with us and, you know, with American Indians and Alaska Natives as well, like in policies and systemic things that have, you know, really hurt them and hurt their development, like systematically, like things that were put into law that really hurt them as well.</td>\n",
       "      <td>Problem-solution</td>\n",
       "      <td>Problem-solution</td>\n",
       "      <td>Problem-solution</td>\n",
       "      <td>Problem-solution</td>\n",
       "      <td>Problem-solution</td>\n",
       "    </tr>\n",
       "    <tr>\n",
       "      <th>3</th>\n",
       "      <td>They do themselves, they do wear clothes, they do not do this, so we are going there to civilise them, which is not true.</td>\n",
       "      <td>Problem-solution</td>\n",
       "      <td>Problem-solution</td>\n",
       "      <td>Problem-solution</td>\n",
       "      <td>no_annotation</td>\n",
       "      <td>Problem-solution</td>\n",
       "    </tr>\n",
       "    <tr>\n",
       "      <th>4</th>\n",
       "      <td>Justice has to be for everyone.</td>\n",
       "      <td>Intention</td>\n",
       "      <td>Problem-solution</td>\n",
       "      <td>no_annotation</td>\n",
       "      <td>no_annotation</td>\n",
       "      <td>no_annotation</td>\n",
       "    </tr>\n",
       "  </tbody>\n",
       "</table>\n",
       "</div>"
      ],
      "text/plain": [
       "                                                                                                                                                                                                                                                                                                                                                                                                                             sentence  \\\n",
       "0                                                                                                                                                                                                                                                                                                                                                                      I also wanted to take our anger, our frustration, our sadness.   \n",
       "1                                                                                                                                                                                                                         A ban on police choke holds, for example, and the talks are still going on for the bigger asks, namely slashing the Seattle police department's budget and redirecting funds to health and social services.   \n",
       "2  I mean, it's so ingrained into, you know, just society and, you know, it's been represented historically, like, throughout, you know, throughout time, like with us and, you know, with American Indians and Alaska Natives as well, like in policies and systemic things that have, you know, really hurt them and hurt their development, like systematically, like things that were put into law that really hurt them as well.   \n",
       "3                                                                                                                                                                                                                                                                                                           They do themselves, they do wear clothes, they do not do this, so we are going there to civilise them, which is not true.   \n",
       "4                                                                                                                                                                                                                                                                                                                                                                                                     Justice has to be for everyone.   \n",
       "\n",
       "  collectiveActionLevel      annotation_1      annotation_2      annotation_3  \\\n",
       "0        Call-to-action         Execution     no_annotation     no_annotation   \n",
       "1             Intention         Intention  Problem-solution     no_annotation   \n",
       "2      Problem-solution  Problem-solution  Problem-solution  Problem-solution   \n",
       "3      Problem-solution  Problem-solution  Problem-solution     no_annotation   \n",
       "4             Intention  Problem-solution     no_annotation     no_annotation   \n",
       "\n",
       "           majority  \n",
       "0     no_annotation  \n",
       "1       no majority  \n",
       "2  Problem-solution  \n",
       "3  Problem-solution  \n",
       "4     no_annotation  "
      ]
     },
     "execution_count": 35,
     "metadata": {},
     "output_type": "execute_result"
    }
   ],
   "source": [
    "df_multi = multi_sample[['sentence', 'collectiveActionLevel']].copy()\n",
    "df_multi['annotation_1'] = multi_sample_1['annotation'].values\n",
    "df_multi['annotation_2'] = multi_sample_2['annotation'].values\n",
    "df_multi['annotation_3'] = multi_sample_3['annotation'].values\n",
    "df_multi[['annotation_1', 'annotation_2', 'annotation_3']] = df_multi[['annotation_1', 'annotation_2', 'annotation_3']].fillna('no_annotation')\n",
    "\n",
    "modes = df_multi[['annotation_1', 'annotation_2', 'annotation_3']].mode(axis=1)\n",
    "df_multi['majority'] = modes.apply(lambda x: x[0] if len(x.dropna()) == 1 else 'no majority', axis=1)\n",
    "df_multi.head()"
   ]
  },
  {
   "cell_type": "code",
   "execution_count": 39,
   "metadata": {},
   "outputs": [
    {
     "name": "stdout",
     "output_type": "stream",
     "text": [
      "Krippendorff's alpha: 0.4033\n"
     ]
    }
   ],
   "source": [
    "label_mapping = {\n",
    "    'Execution': 0,\n",
    "    'Intention': 1,\n",
    "    'Problem-solution': 2,\n",
    "    'Call-to-action': 3,\n",
    "    'no_annotation': np.nan  # treat as missing\n",
    "}\n",
    "df_krip = df_multi[['annotation_1', 'annotation_2', 'annotation_3']].replace(label_mapping)\n",
    "\n",
    "df_multi_krip = df_krip[['annotation_1', 'annotation_2', 'annotation_3']].to_numpy()\n",
    "df_multi_krip = np.transpose(df_multi_krip)\n",
    "alpha = krippendorff.alpha(reliability_data=df_multi_krip, level_of_measurement='nominal')\n",
    "print(f\"Krippendorff's alpha: {alpha:.4f}\")"
   ]
  },
  {
   "cell_type": "code",
   "execution_count": 46,
   "metadata": {},
   "outputs": [],
   "source": [
    "# accuracy = accuracy_score(df_multi['majority'], df_multi['collectiveActionLevel'])\n",
    "# f1 = f1_score(df_multi['majority'], df_multi['collectiveActionLevel'])\n",
    "# tn, fp, fn, tp = confusion_matrix(df_multi['majority'], df_multi['collectiveActionLevel']).ravel()\n",
    "# print(f'Accuracy: {accuracy:.4f}')\n",
    "# print(f'F1 Score: {f1:.4f}')\n",
    "# print(f'True Positives (TP): {tp}')\n",
    "# print(f'True Negatives (TN): {tn}')\n",
    "# print(f'False Positives (FP): {fp}')\n",
    "# print(f'False Negatives (FN): {fn}')"
   ]
  },
  {
   "cell_type": "markdown",
   "metadata": {},
   "source": [
    "Filtering out rows with no majority vote or marked as not collective action"
   ]
  },
  {
   "cell_type": "code",
   "execution_count": null,
   "metadata": {},
   "outputs": [
    {
     "name": "stdout",
     "output_type": "stream",
     "text": [
      "Accuracy: 0.8095\n",
      "F1 Score (macro): 0.6689\n",
      "Confusion Matrix (labels: Problem-solution, Call-to-action, Intention, Execution):\n",
      "[[54  5  2  0]\n",
      " [ 1  6  3  0]\n",
      " [ 0  3  4  0]\n",
      " [ 0  0  2  4]]\n"
     ]
    }
   ],
   "source": [
    "# valid_labels = ['Problem-solution', 'Call-to-action', 'Intention', 'Execution']\n",
    "# df_eval = df_multi[\n",
    "#     df_multi['majority'].isin(valid_labels) &\n",
    "#     df_multi['collectiveActionLevel'].isin(valid_labels)\n",
    "# ]\n",
    "# accuracy = accuracy_score(df_eval['majority'], df_eval['collectiveActionLevel'])\n",
    "# f1 = f1_score(df_eval['majority'], df_eval['collectiveActionLevel'], average='macro')\n",
    "# labels = valid_labels  \n",
    "# cm = confusion_matrix(df_eval['majority'], df_eval['collectiveActionLevel'], labels=labels)\n",
    "# print(f'Accuracy: {accuracy:.4f}')\n",
    "# print(f'F1 Score (macro): {f1:.4f}')\n",
    "# print('Confusion Matrix (labels: Problem-solution, Call-to-action, Intention, Execution):')\n",
    "# print(cm)"
   ]
  },
  {
   "cell_type": "code",
   "execution_count": 49,
   "metadata": {},
   "outputs": [
    {
     "name": "stdout",
     "output_type": "stream",
     "text": [
      "                  precision    recall  f1-score   support\n",
      "\n",
      "Problem-solution       0.98      0.89      0.93        61\n",
      "  Call-to-action       0.43      0.60      0.50        10\n",
      "       Intention       0.36      0.57      0.44         7\n",
      "       Execution       1.00      0.67      0.80         6\n",
      "\n",
      "        accuracy                           0.81        84\n",
      "       macro avg       0.69      0.68      0.67        84\n",
      "    weighted avg       0.87      0.81      0.83        84\n",
      "\n"
     ]
    }
   ],
   "source": [
    "print(classification_report(\n",
    "    df_eval['majority'],\n",
    "    df_eval['collectiveActionLevel'],\n",
    "    labels=valid_labels,\n",
    "    zero_division=0\n",
    "))"
   ]
  },
  {
   "cell_type": "markdown",
   "metadata": {},
   "source": [
    "Merging as rows with no majority vote or marked as not collective action to class None"
   ]
  },
  {
   "cell_type": "code",
   "execution_count": 52,
   "metadata": {},
   "outputs": [],
   "source": [
    "df_multi['majority_normalized'] = df_multi['majority'].replace({\n",
    "    'no_annotation': 'None',\n",
    "    'no majority': 'None'\n",
    "})\n",
    "df_multi['collectiveActionLevel_normalized'] = df_multi['collectiveActionLevel'].fillna('None')"
   ]
  },
  {
   "cell_type": "code",
   "execution_count": null,
   "metadata": {},
   "outputs": [
    {
     "name": "stdout",
     "output_type": "stream",
     "text": [
      "Accuracy: 0.2267\n",
      "Macro F1 Score: 0.2169\n",
      "Confusion Matrix:\n",
      "                  Problem-solution  Call-to-action  Intention  Execution  None\n",
      "Problem-solution                54               5          2          0     0\n",
      "Call-to-action                   1               6          3          0     0\n",
      "Intention                        0               3          4          0     0\n",
      "Execution                        0               0          2          4     0\n",
      "None                           133              24         38         21     0\n"
     ]
    }
   ],
   "source": [
    "all_labels = ['Problem-solution', 'Call-to-action', 'Intention', 'Execution', 'None']\n",
    "df_eval = df_multi[['majority_normalized', 'collectiveActionLevel_normalized']].dropna()\n",
    "accuracy = accuracy_score(df_eval['majority_normalized'], df_eval['collectiveActionLevel_normalized'])\n",
    "f1 = f1_score(df_eval['majority_normalized'], df_eval['collectiveActionLevel_normalized'], labels=all_labels, average='macro')\n",
    "cm = confusion_matrix(df_eval['majority_normalized'], df_eval['collectiveActionLevel_normalized'], labels=all_labels)\n",
    "print(f'Accuracy: {accuracy:.4f}')\n",
    "print(f'Macro F1 Score: {f1:.4f}')\n",
    "print('Confusion Matrix:')\n",
    "print(pd.DataFrame(cm, index=all_labels, columns=all_labels))"
   ]
  },
  {
   "cell_type": "code",
   "execution_count": 55,
   "metadata": {},
   "outputs": [
    {
     "name": "stdout",
     "output_type": "stream",
     "text": [
      "                  precision    recall  f1-score   support\n",
      "\n",
      "Problem-solution       0.29      0.89      0.43        61\n",
      "  Call-to-action       0.16      0.60      0.25        10\n",
      "       Intention       0.08      0.57      0.14         7\n",
      "       Execution       0.16      0.67      0.26         6\n",
      "            None       0.00      0.00      0.00       216\n",
      "\n",
      "        accuracy                           0.23       300\n",
      "       macro avg       0.14      0.54      0.22       300\n",
      "    weighted avg       0.07      0.23      0.11       300\n",
      "\n"
     ]
    }
   ],
   "source": [
    "print(classification_report(\n",
    "    df_eval['majority_normalized'],\n",
    "    df_eval['collectiveActionLevel_normalized'],\n",
    "    labels=all_labels,\n",
    "    zero_division=0\n",
    "))"
   ]
  }
 ],
 "metadata": {
  "kernelspec": {
   "display_name": "base",
   "language": "python",
   "name": "python3"
  },
  "language_info": {
   "codemirror_mode": {
    "name": "ipython",
    "version": 3
   },
   "file_extension": ".py",
   "mimetype": "text/x-python",
   "name": "python",
   "nbconvert_exporter": "python",
   "pygments_lexer": "ipython3",
   "version": "3.10.13"
  }
 },
 "nbformat": 4,
 "nbformat_minor": 2
}
