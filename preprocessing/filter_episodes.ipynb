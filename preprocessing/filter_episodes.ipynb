{
 "cells": [
  {
   "cell_type": "code",
   "execution_count": 1,
   "metadata": {},
   "outputs": [],
   "source": [
    "import pandas as pd\n",
    "import sqlite3\n",
    "from tabulate import tabulate\n",
    "import sqlite3\n",
    "import os\n",
    "import csv\n",
    "import re\n",
    "import shutil"
   ]
  },
  {
   "cell_type": "code",
   "execution_count": 3,
   "metadata": {},
   "outputs": [],
   "source": [
    "keywords = [\n",
    "    \"racism\",\n",
    "    \"racial justice\",\n",
    "    \"police brutality\",\n",
    "    \"police violence\",\n",
    "    \"black people\",\n",
    "    \"black person\",\n",
    "    \"george floyd\",\n",
    "    \"breonna taylor\",\n",
    "    \"trayvon martin\",\n",
    "    \"ahmaud arbery\",\n",
    "    \"sandra bland\",\n",
    "    \"tamir rice\",\n",
    "    \"eric garner\",\n",
    "    \"black lives matter\",\n",
    "    \"systemic racism\",\n",
    "    \"structural racism\",\n",
    "    \"racial inequality\",\n",
    "    \"racial profiling\",\n",
    "    \"racial bias\",\n",
    "    \"institutional racism\",\n",
    "    \"mass incarceration\",\n",
    "    \"criminal justice reform\", \n",
    "    \"abolish the police\",\n",
    "    \"defund the police\", \n",
    "    \"racial uprising\",\n",
    "    \"white supremacy\"\n",
    "]"
   ]
  },
  {
   "cell_type": "code",
   "execution_count": null,
   "metadata": {},
   "outputs": [],
   "source": [
    "like_conditions = \" OR \".join([f\"LOWER(transcript) LIKE '%{kw.lower()}%'\" for kw in keywords])\n",
    "\n",
    "query = f\"\"\"\n",
    "SELECT epID, episodeDateLocalized FROM podcast_episodes\n",
    "WHERE {like_conditions}\n",
    "\"\"\"\n",
    "\n",
    "db_path = \"../data/data.db\"\n",
    "output_csv = \"../data/race_epIDs.csv\"\n",
    "\n",
    "with sqlite3.connect(db_path) as connection:\n",
    "    df = pd.read_sql_query(query, connection)\n",
    "\n",
    "df.to_csv(output_csv, index=False)"
   ]
  },
  {
   "cell_type": "markdown",
   "metadata": {},
   "source": [
    "Get a list of all episodes and save relevant episode level data"
   ]
  },
  {
   "cell_type": "code",
   "execution_count": null,
   "metadata": {},
   "outputs": [
    {
     "data": {
      "text/plain": [
       "152539"
      ]
     },
     "execution_count": 5,
     "metadata": {},
     "output_type": "execute_result"
    }
   ],
   "source": [
    "episodes_dir = '../data/episodes'\n",
    "ep_ids = [\n",
    "    (int(os.path.splitext(filename)[0]),)\n",
    "    for filename in os.listdir(episodes_dir)\n",
    "    if filename.endswith('.csv') and filename[:-4].isdigit()\n",
    "]\n",
    "len(ep_ids)"
   ]
  },
  {
   "cell_type": "code",
   "execution_count": null,
   "metadata": {},
   "outputs": [
    {
     "name": "stdout",
     "output_type": "stream",
     "text": [
      "Saved 152539 rows to ../data/episodeLevelData.csv\n"
     ]
    }
   ],
   "source": [
    "db_path = '../data/data.db'\n",
    "conn = sqlite3.connect(db_path)\n",
    "cursor = conn.cursor()\n",
    "\n",
    "cursor.execute('DROP TABLE IF EXISTS temp_epids')\n",
    "cursor.execute('CREATE TEMP TABLE temp_epids (epID INTEGER PRIMARY KEY)')\n",
    "cursor.executemany('INSERT INTO temp_epids (epID) VALUES (?)', ep_ids)\n",
    "conn.commit()\n",
    "\n",
    "query = '''\n",
    "SELECT podcast_episodes.*\n",
    "FROM podcast_episodes\n",
    "JOIN temp_epids ON podcast_episodes.epID = temp_epids.epID\n",
    "'''\n",
    "df = pd.read_sql_query(query, conn)\n",
    "\n",
    "df.to_csv('../data/episodeLevelData.csv', index=False)\n",
    "conn.close()\n",
    "\n",
    "print(f\"Saved {len(df)} rows to ../data/episodeLevelData.csv\")"
   ]
  },
  {
   "cell_type": "markdown",
   "metadata": {},
   "source": [
    "Move all episodes that do not discuss race to a different folder"
   ]
  },
  {
   "cell_type": "code",
   "execution_count": 7,
   "metadata": {},
   "outputs": [],
   "source": [
    "valid_ids = set(df['epID'].astype(str))  \n",
    "\n",
    "episodes_dir = '../data/episodes/'\n",
    "bad_episodes_dir = '../data/bad_episodes/'\n",
    "\n",
    "for filename in os.listdir(episodes_dir):\n",
    "    if filename.endswith('.csv'):\n",
    "        file_id = filename.replace('.csv', '')\n",
    "        if file_id not in valid_ids:\n",
    "            # Move the file to the bad_episodes directory\n",
    "            src_path = os.path.join(episodes_dir, filename)\n",
    "            dst_path = os.path.join(bad_episodes_dir, filename)\n",
    "            shutil.move(src_path, dst_path)"
   ]
  },
  {
   "cell_type": "markdown",
   "metadata": {},
   "source": [
    "Move all episodes that dicuss race but do not contain any collective action sentences to the bad folder"
   ]
  },
  {
   "cell_type": "code",
   "execution_count": 8,
   "metadata": {},
   "outputs": [],
   "source": [
    "for filename in os.listdir(episodes_dir):\n",
    "    if filename.endswith('.csv'):\n",
    "        file_path = os.path.join(episodes_dir, filename)\n",
    "        try:\n",
    "            chunks = pd.read_csv(file_path, usecols=['collectiveAction'], chunksize=10000)\n",
    "            has_zero = any((chunk['collectiveAction'] == 0).any() for chunk in chunks)\n",
    "        except Exception as e:\n",
    "            print(f\"Error reading {filename}: {e}\")\n",
    "            has_zero = False\n",
    "\n",
    "        if not has_zero:\n",
    "            shutil.move(file_path, os.path.join(bad_episodes_dir, filename))"
   ]
  }
 ],
 "metadata": {
  "kernelspec": {
   "display_name": ".venv2",
   "language": "python",
   "name": "python3"
  },
  "language_info": {
   "codemirror_mode": {
    "name": "ipython",
    "version": 3
   },
   "file_extension": ".py",
   "mimetype": "text/x-python",
   "name": "python",
   "nbconvert_exporter": "python",
   "pygments_lexer": "ipython3",
   "version": "3.12.3"
  }
 },
 "nbformat": 4,
 "nbformat_minor": 2
}
